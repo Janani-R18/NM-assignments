{
  "nbformat": 4,
  "nbformat_minor": 0,
  "metadata": {
    "colab": {
      "provenance": [],
      "authorship_tag": "ABX9TyPZ4zNnZHaqVBt/HCW4df39",
      "include_colab_link": true
    },
    "kernelspec": {
      "name": "python3",
      "display_name": "Python 3"
    },
    "language_info": {
      "name": "python"
    }
  },
  "cells": [
    {
      "cell_type": "markdown",
      "metadata": {
        "id": "view-in-github",
        "colab_type": "text"
      },
      "source": [
        "<a href=\"https://colab.research.google.com/github/Janani-R18/NM-assignments/blob/main/Assignment_8.ipynb\" target=\"_parent\"><img src=\"https://colab.research.google.com/assets/colab-badge.svg\" alt=\"Open In Colab\"/></a>"
      ]
    },
    {
      "cell_type": "code",
      "execution_count": null,
      "metadata": {
        "colab": {
          "base_uri": "https://localhost:8080/",
          "height": 383
        },
        "id": "AdvQkR7KKckt",
        "outputId": "df6081d8-cbb4-4ded-e24b-94920ba52752"
      },
      "outputs": [
        {
          "output_type": "error",
          "ename": "ModuleNotFoundError",
          "evalue": "No module named 'gradio'",
          "traceback": [
            "\u001b[0;31m---------------------------------------------------------------------------\u001b[0m",
            "\u001b[0;31mModuleNotFoundError\u001b[0m                       Traceback (most recent call last)",
            "\u001b[0;32m<ipython-input-8-72b6850475f0>\u001b[0m in \u001b[0;36m<cell line: 0>\u001b[0;34m()\u001b[0m\n\u001b[1;32m      2\u001b[0m \u001b[0;32mimport\u001b[0m \u001b[0mpandas\u001b[0m \u001b[0;32mas\u001b[0m \u001b[0mpd\u001b[0m\u001b[0;34m\u001b[0m\u001b[0;34m\u001b[0m\u001b[0m\n\u001b[1;32m      3\u001b[0m \u001b[0;32mfrom\u001b[0m \u001b[0msklearn\u001b[0m\u001b[0;34m.\u001b[0m\u001b[0mlinear_model\u001b[0m \u001b[0;32mimport\u001b[0m \u001b[0mLinearRegression\u001b[0m\u001b[0;34m\u001b[0m\u001b[0;34m\u001b[0m\u001b[0m\n\u001b[0;32m----> 4\u001b[0;31m \u001b[0;32mimport\u001b[0m \u001b[0mgradio\u001b[0m \u001b[0;32mas\u001b[0m \u001b[0mgr\u001b[0m\u001b[0;34m\u001b[0m\u001b[0;34m\u001b[0m\u001b[0m\n\u001b[0m\u001b[1;32m      5\u001b[0m \u001b[0;34m\u001b[0m\u001b[0m\n\u001b[1;32m      6\u001b[0m \u001b[0;31m# Define the function for linear regression prediction\u001b[0m\u001b[0;34m\u001b[0m\u001b[0;34m\u001b[0m\u001b[0m\n",
            "\u001b[0;31mModuleNotFoundError\u001b[0m: No module named 'gradio'",
            "",
            "\u001b[0;31m---------------------------------------------------------------------------\u001b[0;32m\nNOTE: If your import is failing due to a missing package, you can\nmanually install dependencies using either !pip or !apt.\n\nTo view examples of installing some common dependencies, click the\n\"Open Examples\" button below.\n\u001b[0;31m---------------------------------------------------------------------------\u001b[0m\n"
          ],
          "errorDetails": {
            "actions": [
              {
                "action": "open_url",
                "actionText": "Open Examples",
                "url": "/notebooks/snippets/importing_libraries.ipynb"
              }
            ]
          }
        }
      ],
      "source": [
        "import numpy as np\n",
        "import pandas as pd\n",
        "from sklearn.linear_model import LinearRegression\n",
        "import gradio as gr\n",
        "\n",
        "# Define the function for linear regression prediction\n",
        "def predict_price(features, target, new_data):\n",
        "    # Convert inputs to numpy arrays\n",
        "    features = np.array(features).reshape(-1, 1)\n",
        "    target = np.array(target)\n",
        "    new_data = np.array(new_data).reshape(-1, 1)\n",
        "\n",
        "    # Train the linear regression model\n",
        "    model = LinearRegression()\n",
        "    model.fit(features, target)\n",
        "\n",
        "    # Make predictions\n",
        "    predictions = model.predict(new_data)\n",
        "    return predictions.tolist()\n",
        "\n",
        "# Gradio interface setup\n",
        "with gr.Blocks() as demo:\n",
        "    gr.Markdown(\"# Linear Regression Predictor\")\n",
        "\n",
        "    with gr.Row():\n",
        "        feature_input = gr.Textbox(label=\"Feature Values (comma-separated)\", placeholder=\"e.g., 1, 2, 3\")\n",
        "        target_input = gr.Textbox(label=\"Target Values (comma-separated)\", placeholder=\"e.g., 2, 4, 6\")\n",
        "        new_data_input = gr.Textbox(label=\"New Data Points (comma-separated)\", placeholder=\"e.g., 4, 5\")\n",
        "\n",
        "    output = gr.Textbox(label=\"Predicted Values\")\n",
        "\n",
        "    # Button to trigger prediction\n",
        "    predict_button = gr.Button(\"Predict\")\n",
        "\n",
        "    # Define the click action\n",
        "    def process_inputs(feature_values, target_values, new_data_points):\n",
        "        # Parse inputs\n",
        "        features = list(map(float, feature_values.split(',')))\n",
        "        target = list(map(float, target_values.split(',')))\n",
        "        new_data = list(map(float, new_data_points.split(',')))\n",
        "\n",
        "        # Call prediction function\n",
        "        return predict_price(features, target, new_data)\n",
        "\n",
        "    predict_button.click(process_inputs,\n",
        "                         inputs=[feature_input, target_input, new_data_input],\n",
        "                         outputs=output)\n",
        "\n",
        "# Launch the app\n",
        "demo.launch()\n"
      ]
    }
  ]
}