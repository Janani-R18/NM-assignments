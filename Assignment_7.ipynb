{
  "nbformat": 4,
  "nbformat_minor": 0,
  "metadata": {
    "colab": {
      "provenance": [],
      "authorship_tag": "ABX9TyNdsyuVNYW/yvh5Co3Cx0yd",
      "include_colab_link": true
    },
    "kernelspec": {
      "name": "python3",
      "display_name": "Python 3"
    },
    "language_info": {
      "name": "python"
    }
  },
  "cells": [
    {
      "cell_type": "markdown",
      "metadata": {
        "id": "view-in-github",
        "colab_type": "text"
      },
      "source": [
        "<a href=\"https://colab.research.google.com/github/Janani-R18/NM-assignments/blob/main/Assignment_7.ipynb\" target=\"_parent\"><img src=\"https://colab.research.google.com/assets/colab-badge.svg\" alt=\"Open In Colab\"/></a>"
      ]
    },
    {
      "cell_type": "code",
      "execution_count": null,
      "metadata": {
        "id": "y5wfXTUdDaeY"
      },
      "outputs": [],
      "source": [
        "import numpy as np\n",
        "from sklearn.linear_model import LinearRegression\n",
        "import gradio as gr\n",
        "\n",
        "# Sample data\n",
        "X = np.array([[1], [2], [3], [4], [5]])\n",
        "y = np.array([2, 4, 6, 8, 10])\n",
        "\n",
        "model = LinearRegression()\n",
        "model.fit(X, y)\n",
        "\n",
        "def predict(input_x):\n",
        "    x_array = np.array([[input_x]])\n",
        "        prediction = model.predict(x_array)\n",
        "            return f\"Predicted y: {prediction[0]:.2f}\"\n",
        "\n",
        "            iface = gr.Interface(\n",
        "                fn=predict,\n",
        "                    inputs=gr.Number(label=\"Input x\"),\n",
        "                        outputs=gr.Textbox(label=\"Prediction\"),\n",
        "                            title=\"Linear Regression Predictor\",\n",
        "                                description=\"Enter a value for x to get the predicted y using a simple linear regression model.\"\n",
        "                                )\n",
        "\n",
        "                                iface.launch()\n"
      ]
    },
    {
      "cell_type": "code",
      "source": [],
      "metadata": {
        "id": "52yIuWOpDbP0"
      },
      "execution_count": null,
      "outputs": []
    }
  ]
}